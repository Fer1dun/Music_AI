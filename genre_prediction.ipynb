{
 "cells": [
  {
   "cell_type": "code",
   "execution_count": 5,
   "id": "14be147f-7988-4bd3-9925-7de139b0b86b",
   "metadata": {},
   "outputs": [
    {
     "name": "stdout",
     "output_type": "stream",
     "text": [
      "1/1 [==============================] - 0s 63ms/step\n",
      "Predicted Genre: hiphop\n"
     ]
    }
   ],
   "source": [
    "import numpy as np\n",
    "import librosa\n",
    "import tensorflow as tf\n",
    "import joblib\n",
    "\n",
    "# Genre sözlüğü\n",
    "mydict = {'blues': 0, 'classical': 1, 'country': 2, 'disco': 3, 'hiphop': 4, \n",
    "          'jazz': 5, 'metal': 6, 'pop': 7, 'reggae': 8, 'rock': 9}\n",
    "\n",
    "def predict_genre(audio_file_path):\n",
    "    # Modeli yükle\n",
    "    model = tf.keras.models.load_model('music_genre_model.h5')\n",
    "    \n",
    "    # Ses dosyasını yükle\n",
    "    librosa_audio_data, librosa_sample_rate = librosa.load(audio_file_path)\n",
    "    \n",
    "    # MFCC özelliklerini çıkar\n",
    "    mfccs = np.mean(librosa.feature.mfcc(y=librosa_audio_data, sr=librosa_sample_rate, n_mfcc=40).T, axis=0)\n",
    "    \n",
    "    # Diziyi yeniden şekillendir\n",
    "    x = np.array([mfccs])\n",
    "    x = np.reshape(x, (x.shape[0], 10, 4, 1))\n",
    "    \n",
    "    # Tahmin yap\n",
    "    y_pre = model.predict(x)\n",
    "    y_pre = np.round(y_pre)  # np.round_ yerine np.round kullanıldı\n",
    "    \n",
    "    # Tahmin edilen sınıfı bul\n",
    "    _, b = np.where(y_pre == 1)\n",
    "    \n",
    "    # Genre'ı döndür\n",
    "    for genre, genre_class in mydict.items():\n",
    "        if genre_class == b[0]:\n",
    "            return genre\n",
    "    \n",
    "    return \"Genre not found\"\n",
    "\n",
    "# Kullanım örneği\n",
    "def main():\n",
    "    # Tahmin yapılacak ses dosyasının yolu\n",
    "    audio_file_path = \"2pac.wav\"  # Kendi ses dosyanızın yolunu buraya yazın\n",
    "    \n",
    "    try:\n",
    "        predicted_genre = predict_genre(audio_file_path)\n",
    "        print(f\"Predicted Genre: {predicted_genre}\")\n",
    "    except Exception as e:\n",
    "        print(f\"An error occurred: {e}\")\n",
    "\n",
    "if __name__ == \"__main__\":\n",
    "    main()"
   ]
  },
  {
   "cell_type": "code",
   "execution_count": null,
   "id": "1956994f-3c95-44f3-85bd-495f4f40cea2",
   "metadata": {},
   "outputs": [],
   "source": []
  },
  {
   "cell_type": "code",
   "execution_count": null,
   "id": "715d97bd-dec0-480f-8e47-1f2255dc9dd0",
   "metadata": {},
   "outputs": [],
   "source": []
  },
  {
   "cell_type": "code",
   "execution_count": null,
   "id": "6f326487-6a27-433e-82e2-57374c9bf382",
   "metadata": {},
   "outputs": [],
   "source": []
  },
  {
   "cell_type": "code",
   "execution_count": null,
   "id": "d9029a1b-b1ba-4167-951c-449213b782f8",
   "metadata": {},
   "outputs": [],
   "source": []
  }
 ],
 "metadata": {
  "kernelspec": {
   "display_name": "Python 3 (ipykernel)",
   "language": "python",
   "name": "python3"
  },
  "language_info": {
   "codemirror_mode": {
    "name": "ipython",
    "version": 3
   },
   "file_extension": ".py",
   "mimetype": "text/x-python",
   "name": "python",
   "nbconvert_exporter": "python",
   "pygments_lexer": "ipython3",
   "version": "3.10.13"
  }
 },
 "nbformat": 4,
 "nbformat_minor": 5
}

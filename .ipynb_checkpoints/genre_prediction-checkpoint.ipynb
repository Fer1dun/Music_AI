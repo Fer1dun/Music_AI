{
 "cells": [
  {
   "cell_type": "code",
   "execution_count": null,
   "id": "14be147f-7988-4bd3-9925-7de139b0b86b",
   "metadata": {},
   "outputs": [],
   "source": [
    "import numpy as np\n",
    "import librosa\n",
    "import tensorflow as tf\n",
    "import joblib\n",
    "\n",
    "def extract_features(audio_path):\n",
    "    # Load audio file\n",
    "    data, sr = librosa.load(audio_path, duration=30)\n",
    "    \n",
    "    # Calculate features\n",
    "    mfcc = librosa.feature.mfcc(y=data, sr=sr, n_mfcc=13).mean(axis=1)\n",
    "    chroma = librosa.feature.chroma_stft(y=data, sr=sr).mean(axis=1)\n",
    "    spectral_contrast = librosa.feature.spectral_contrast(y=data, sr=sr).mean(axis=1)\n",
    "    spectral_rolloff = librosa.feature.spectral_rolloff(y=data, sr=sr).mean(axis=0)\n",
    "    zcr = librosa.feature.zero_crossing_rate(y=data).mean(axis=0)\n",
    "    \n",
    "    # Combine features\n",
    "    features = np.hstack([mfcc, chroma, spectral_contrast, spectral_rolloff, zcr])\n",
    "    return features\n",
    "\n",
    "def predict_genre(model, audio_path, scaler):\n",
    "    # Extract features\n",
    "    audio_features = extract_features(audio_path)\n",
    "    \n",
    "    # Ensure feature vector matches training data\n",
    "    # This step is crucial to match the exact feature vector used during training\n",
    "    audio_features = audio_features[:len(scaler.mean_)]\n",
    "    \n",
    "    # Scale features\n",
    "    scaled_features = scaler.transform([audio_features])\n",
    "    \n",
    "    # Reshape input data\n",
    "    scaled_features = np.array(scaled_features).reshape(1, -1)\n",
    "    \n",
    "    # Make prediction\n",
    "    predictions = model.predict(scaled_features)\n",
    "    predicted_index = np.argmax(predictions, axis=1)\n",
    "    \n",
    "    # Genre classes\n",
    "    genre_classes = [\n",
    "        \"Blues\", \"Classical\", \"Country\", \"Disco\", \n",
    "        \"Hip-hop\", \"Jazz\", \"Metal\", \"Pop\", \"Reggae\", \"Rock\"\n",
    "    ]\n",
    "    \n",
    "    return genre_classes[predicted_index[0]]\n",
    "\n",
    "# Load the model and scaler\n",
    "model = tf.keras.models.load_model('music_genre_model2.h5')\n",
    "scaler = joblib.load('genre_scaler.pkl')\n",
    "\n",
    "# Predict genre for the audio file\n",
    "genre = predict_genre(model, './genres_original/reggae/reggae.00007.wav', scaler)\n",
    "print(f\"Predicted music genre: {genre}\")"
   ]
  },
  {
   "cell_type": "code",
   "execution_count": null,
   "id": "1956994f-3c95-44f3-85bd-495f4f40cea2",
   "metadata": {},
   "outputs": [],
   "source": []
  },
  {
   "cell_type": "code",
   "execution_count": null,
   "id": "715d97bd-dec0-480f-8e47-1f2255dc9dd0",
   "metadata": {},
   "outputs": [],
   "source": []
  },
  {
   "cell_type": "code",
   "execution_count": null,
   "id": "6f326487-6a27-433e-82e2-57374c9bf382",
   "metadata": {},
   "outputs": [],
   "source": []
  },
  {
   "cell_type": "code",
   "execution_count": null,
   "id": "d9029a1b-b1ba-4167-951c-449213b782f8",
   "metadata": {},
   "outputs": [],
   "source": []
  }
 ],
 "metadata": {
  "kernelspec": {
   "display_name": "Python 3 (ipykernel)",
   "language": "python",
   "name": "python3"
  },
  "language_info": {
   "codemirror_mode": {
    "name": "ipython",
    "version": 3
   },
   "file_extension": ".py",
   "mimetype": "text/x-python",
   "name": "python",
   "nbconvert_exporter": "python",
   "pygments_lexer": "ipython3",
   "version": "3.10.13"
  }
 },
 "nbformat": 4,
 "nbformat_minor": 5
}
